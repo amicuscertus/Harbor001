{
  "nbformat": 4,
  "nbformat_minor": 0,
  "metadata": {
    "colab": {
      "name": "barchart3.ipynb",
      "provenance": [],
      "collapsed_sections": [],
      "include_colab_link": true
    },
    "kernelspec": {
      "name": "python3",
      "display_name": "Python 3"
    }
  },
  "cells": [
    {
      "cell_type": "markdown",
      "metadata": {
        "id": "view-in-github",
        "colab_type": "text"
      },
      "source": [
        "<a href=\"https://colab.research.google.com/github/amicuscertus/Harbor001/blob/master/barchart3.ipynb\" target=\"_parent\"><img src=\"https://colab.research.google.com/assets/colab-badge.svg\" alt=\"Open In Colab\"/></a>"
      ]
    },
    {
      "cell_type": "code",
      "metadata": {
        "id": "nmIz4Shmrun_",
        "colab_type": "code",
        "colab": {}
      },
      "source": [
        "import matplotlib\n",
        "import matplotlib.pyplot as plt\n",
        "import numpy as np"
      ],
      "execution_count": 0,
      "outputs": []
    },
    {
      "cell_type": "code",
      "metadata": {
        "id": "54YQjddHr1H7",
        "colab_type": "code",
        "colab": {}
      },
      "source": [
        "apples = [20, 34, 30, 35, 27, 15, 9]\n",
        "bananas = [34, 46, 17, 22, 19, 8, 38]\n",
        "cherries = [11, 27, 8, 23, 7, 22, 14]\n",
        "x = np.arange(len(apples))"
      ],
      "execution_count": 0,
      "outputs": []
    },
    {
      "cell_type": "code",
      "metadata": {
        "id": "WT3ZsBG0szbD",
        "colab_type": "code",
        "outputId": "13791fe8-28d6-410d-ad20-3483cdc7823a",
        "colab": {
          "base_uri": "https://localhost:8080/",
          "height": 282
        }
      },
      "source": [
        "width = 0.9\n",
        "plt.bar(x, apples, width, color='coral', label='apples')\n",
        "plt.bar(x, bananas, width, color='gold', label='bananas', bottom=apples)\n",
        "sum = [x + y for (x, y) in zip(apples, bananas)]\n",
        "plt.bar(x, cherries, width, color='lime', label='cherries', bottom=sum)\n",
        "plt.legend()"
      ],
      "execution_count": 3,
      "outputs": [
        {
          "output_type": "execute_result",
          "data": {
            "text/plain": [
              "<matplotlib.legend.Legend at 0x7f3522d9bb38>"
            ]
          },
          "metadata": {
            "tags": []
          },
          "execution_count": 3
        },
        {
          "output_type": "display_data",
          "data": {
            "image/png": "[encoded data removed]",
            "text/plain": [
              "<Figure size 432x288 with 1 Axes>"
            ]
          },
          "metadata": {
            "tags": []
          }
        }
      ]
    },
    {
      "cell_type": "code",
      "metadata": {
        "id": "LJuIcz9x4t6t",
        "colab_type": "code",
        "colab": {}
      },
      "source": [
        "math = np.array([83, 37, 72, 62, 95])\n",
        "biology = np.array([56, 89, 22, 61, 92])\n",
        "history = np.array([66, 88, 61, 52, 98])\n",
        "x = np.arange(len(math))"
      ],
      "execution_count": 0,
      "outputs": []
    },
    {
      "cell_type": "code",
      "metadata": {
        "id": "TFTElj5L9D47",
        "colab_type": "code",
        "colab": {
          "base_uri": "https://localhost:8080/",
          "height": 282
        },
        "outputId": "1c9b4400-8514-487c-b012-22b2b0ff05e4"
      },
      "source": [
        "width = 0.7\n",
        "plt.bar(x, math, width, color='cornflowerblue', label='math')\n",
        "plt.bar(x, biology, width, color='plum', label='biology', bottom=math)\n",
        "plt.bar(x, history, width, color='lightblue', label='history', bottom=math + biology)\n",
        "plt.legend()"
      ],
      "execution_count": 5,
      "outputs": [
        {
          "output_type": "execute_result",
          "data": {
            "text/plain": [
              "<matplotlib.legend.Legend at 0x7f35228b8f28>"
            ]
          },
          "metadata": {
            "tags": []
          },
          "execution_count": 5
        },
        {
          "output_type": "display_data",
          "data": {
            "image/png": "[encoded data removed]",
            "text/plain": [
              "<Figure size 432x288 with 1 Axes>"
            ]
          },
          "metadata": {
            "tags": []
          }
        }
      ]
    },
    {
      "cell_type": "code",
      "metadata": {
        "id": "Fehx8smL_UN4",
        "colab_type": "code",
        "colab": {
          "base_uri": "https://localhost:8080/",
          "height": 282
        },
        "outputId": "a244e25d-98b7-42a6-ba65-823c8d23e609"
      },
      "source": [
        "x = ['Alice', 'Bob', 'Cathy', 'Dave', 'Rye']\n",
        "plt.bar(x, math, width, color='cornflowerblue', label='math')\n",
        "plt.bar(x, biology, width, color='plum', label='biology', bottom=math)\n",
        "plt.bar(x, history, width, color='lightblue', label='history', bottom=math + biology)\n",
        "plt.legend()"
      ],
      "execution_count": 6,
      "outputs": [
        {
          "output_type": "execute_result",
          "data": {
            "text/plain": [
              "<matplotlib.legend.Legend at 0x7f35227df940>"
            ]
          },
          "metadata": {
            "tags": []
          },
          "execution_count": 6
        },
        {
          "output_type": "display_data",
          "data": {
            "image/png": "[encoded data removed]",
            "text/plain": [
              "<Figure size 432x288 with 1 Axes>"
            ]
          },
          "metadata": {
            "tags": []
          }
        }
      ]
    },
    {
      "cell_type": "code",
      "metadata": {
        "id": "v2e9BWxj_d_K",
        "colab_type": "code",
        "colab": {
          "base_uri": "https://localhost:8080/",
          "height": 69
        },
        "outputId": "dee2f5b9-2038-4681-9789-66b1cc188ba8"
      },
      "source": [
        "total = math + biology + history\n",
        "total_best = np.amax(total)\n",
        "total_worst = np.amin(total)\n",
        "print(total)\n",
        "print(total_best)\n",
        "print(total_worst)"
      ],
      "execution_count": 7,
      "outputs": [
        {
          "output_type": "stream",
          "text": [
            "[205 214 155 175 285]\n",
            "285\n",
            "155\n"
          ],
          "name": "stdout"
        }
      ]
    },
    {
      "cell_type": "code",
      "metadata": {
        "id": "BD2Rn9lR__qO",
        "colab_type": "code",
        "colab": {
          "base_uri": "https://localhost:8080/",
          "height": 86
        },
        "outputId": "aec4676a-9e7b-4ad3-c844-421db7836eb3"
      },
      "source": [
        "who_best = np.argmax(total)\n",
        "who_worst = np.argmin(total)\n",
        "print(who_best)\n",
        "print(who_worst)\n",
        "print(x[who_best])\n",
        "print(x[who_worst])"
      ],
      "execution_count": 8,
      "outputs": [
        {
          "output_type": "stream",
          "text": [
            "4\n",
            "2\n",
            "Rye\n",
            "Cathy\n"
          ],
          "name": "stdout"
        }
      ]
    },
    {
      "cell_type": "code",
      "metadata": {
        "id": "wfsUCykmBIF3",
        "colab_type": "code",
        "colab": {
          "base_uri": "https://localhost:8080/",
          "height": 52
        },
        "outputId": "7408f506-e7e6-42f3-e5a9-6ed0f927a456"
      },
      "source": [
        "print('The best score is', total_best, 'by', x[who_best])\n",
        "print('The worst score is', total_worst, 'by', x[who_worst])"
      ],
      "execution_count": 9,
      "outputs": [
        {
          "output_type": "stream",
          "text": [
            "The best score is 285 by Rye\n",
            "The worst score is 155 by Cathy\n"
          ],
          "name": "stdout"
        }
      ]
    },
    {
      "cell_type": "code",
      "metadata": {
        "id": "oLw9NTY-FRMC",
        "colab_type": "code",
        "colab": {
          "base_uri": "https://localhost:8080/",
          "height": 35
        },
        "outputId": "b79ffdcb-1562-4bda-fd53-19d6053a3870"
      },
      "source": [
        "print('The best score is', total_best, 'by', x[np.argmax(total)])"
      ],
      "execution_count": 10,
      "outputs": [
        {
          "output_type": "stream",
          "text": [
            "The best score is 285 by Rye\n"
          ],
          "name": "stdout"
        }
      ]
    },
    {
      "cell_type": "code",
      "metadata": {
        "id": "ULCAoDQiFWdd",
        "colab_type": "code",
        "colab": {
          "base_uri": "https://localhost:8080/",
          "height": 35
        },
        "outputId": "9377c9fe-33a2-4c9f-beac-67f856bd29ee"
      },
      "source": [
        "print('The best score is', total_best, 'by', x[np.argmax(math+biology+history)])"
      ],
      "execution_count": 11,
      "outputs": [
        {
          "output_type": "stream",
          "text": [
            "The best score is 285 by Rye\n"
          ],
          "name": "stdout"
        }
      ]
    },
    {
      "cell_type": "code",
      "metadata": {
        "id": "o_LPOLo0FdhD",
        "colab_type": "code",
        "colab": {
          "base_uri": "https://localhost:8080/",
          "height": 35
        },
        "outputId": "2c56d52d-ca0f-4760-a7e6-7941fcb3e20d"
      },
      "source": [
        "print('The best score is', np.amax(math+biology+history), 'by', x[np.argmax(math+biology+history)])"
      ],
      "execution_count": 12,
      "outputs": [
        {
          "output_type": "stream",
          "text": [
            "The best score is 285 by Rye\n"
          ],
          "name": "stdout"
        }
      ]
    },
    {
      "cell_type": "code",
      "metadata": {
        "id": "tRL2yyOcFq1N",
        "colab_type": "code",
        "colab": {}
      },
      "source": [
        ""
      ],
      "execution_count": 0,
      "outputs": []
    }
  ]
}