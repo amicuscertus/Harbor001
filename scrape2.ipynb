{
  "nbformat": 4,
  "nbformat_minor": 0,
  "metadata": {
    "kernelspec": {
      "display_name": "Python 3",
      "language": "python",
      "name": "python3"
    },
    "language_info": {
      "codemirror_mode": {
        "name": "ipython",
        "version": 3
      },
      "file_extension": ".py",
      "mimetype": "text/x-python",
      "name": "python",
      "nbconvert_exporter": "python",
      "pygments_lexer": "ipython3",
      "version": "3.6.1"
    },
    "colab": {
      "name": "scrape2.ipynb",
      "provenance": [],
      "collapsed_sections": [],
      "include_colab_link": true
    }
  },
  "cells": [
    {
      "cell_type": "markdown",
      "metadata": {
        "id": "view-in-github",
        "colab_type": "text"
      },
      "source": [
        "<a href=\"https://colab.research.google.com/github/amicuscertus/Harbor001/blob/master/scrape2.ipynb\" target=\"_parent\"><img src=\"https://colab.research.google.com/assets/colab-badge.svg\" alt=\"Open In Colab\"/></a>"
      ]
    },
    {
      "cell_type": "code",
      "metadata": {
        "id": "88vIYTX3LnEM",
        "colab_type": "code",
        "outputId": "ede80339-b3ef-4b80-eb35-8633cbc9f81d",
        "colab": {
          "base_uri": "https://localhost:8080/",
          "height": 141
        }
      },
      "source": [
        "!pip install requests\n",
        "!pip install beautifulsoup4"
      ],
      "execution_count": 1,
      "outputs": [
        {
          "output_type": "stream",
          "text": [
            "Requirement already satisfied: requests in /usr/local/lib/python3.6/dist-packages (2.21.0)\n",
            "Requirement already satisfied: idna<2.9,>=2.5 in /usr/local/lib/python3.6/dist-packages (from requests) (2.8)\n",
            "Requirement already satisfied: certifi>=2017.4.17 in /usr/local/lib/python3.6/dist-packages (from requests) (2019.9.11)\n",
            "Requirement already satisfied: chardet<3.1.0,>=3.0.2 in /usr/local/lib/python3.6/dist-packages (from requests) (3.0.4)\n",
            "Requirement already satisfied: urllib3<1.25,>=1.21.1 in /usr/local/lib/python3.6/dist-packages (from requests) (1.24.3)\n",
            "Requirement already satisfied: beautifulsoup4 in /usr/local/lib/python3.6/dist-packages (4.6.3)\n"
          ],
          "name": "stdout"
        }
      ]
    },
    {
      "cell_type": "code",
      "metadata": {
        "id": "MNd4cMCqLnEU",
        "colab_type": "code",
        "colab": {}
      },
      "source": [
        "import numpy as np\n",
        "import pandas as pd\n",
        "import requests\n",
        "import bs4\n",
        "import lxml.etree as xml"
      ],
      "execution_count": 0,
      "outputs": []
    },
    {
      "cell_type": "code",
      "metadata": {
        "id": "LHjrmYTQLnEX",
        "colab_type": "code",
        "outputId": "028ab00c-8352-4672-f6a5-5d653305a98e",
        "colab": {
          "base_uri": "https://localhost:8080/",
          "height": 35
        }
      },
      "source": [
        "url = \"https://www.kobegakuin.ac.jp/information/public/teacher/pharmacy/fujii.html\"\n",
        "# url = \"https://www.kobegakuin.ac.jp/information/public/teacher/pharmacy/michida.html\"\n",
        "# url = \"https://www.kobegakuin.ac.jp/information/public/teacher/pharmacy/uemura.html\"\n",
        "requests.get(url)"
      ],
      "execution_count": 3,
      "outputs": [
        {
          "output_type": "execute_result",
          "data": {
            "text/plain": [
              "<Response [200]>"
            ]
          },
          "metadata": {
            "tags": []
          },
          "execution_count": 3
        }
      ]
    },
    {
      "cell_type": "code",
      "metadata": {
        "id": "2weGfDamLnEp",
        "colab_type": "code",
        "colab": {}
      },
      "source": [
        "web_page = bs4.BeautifulSoup(requests.get(url, {}).content, \"html.parser\")"
      ],
      "execution_count": 0,
      "outputs": []
    },
    {
      "cell_type": "code",
      "metadata": {
        "id": "42WWlKjkANuB",
        "colab_type": "code",
        "colab": {
          "base_uri": "https://localhost:8080/",
          "height": 52
        },
        "outputId": "246d6928-b002-4dc8-97d0-78b40b9d1bf2"
      },
      "source": [
        "web_page.find_all('h1')"
      ],
      "execution_count": 5,
      "outputs": [
        {
          "output_type": "execute_result",
          "data": {
            "text/plain": [
              "[<h1><a href=\"/\"><img alt=\"神戸学院大学\" src=\"/img/common/logo.png\"/></a></h1>,\n",
              " <h1>藤井　文彦</h1>]"
            ]
          },
          "metadata": {
            "tags": []
          },
          "execution_count": 5
        }
      ]
    },
    {
      "cell_type": "code",
      "metadata": {
        "id": "Spl84_7HLnFc",
        "colab_type": "code",
        "colab": {
          "base_uri": "https://localhost:8080/",
          "height": 35
        },
        "outputId": "d20f59cf-d3d3-417e-d54a-768be4bae805"
      },
      "source": [
        "web_page.find_all('h1')[1]"
      ],
      "execution_count": 6,
      "outputs": [
        {
          "output_type": "execute_result",
          "data": {
            "text/plain": [
              "<h1>藤井　文彦</h1>"
            ]
          },
          "metadata": {
            "tags": []
          },
          "execution_count": 6
        }
      ]
    },
    {
      "cell_type": "code",
      "metadata": {
        "id": "3xFDfKn8uA8a",
        "colab_type": "code",
        "colab": {
          "base_uri": "https://localhost:8080/",
          "height": 35
        },
        "outputId": "9086b096-eaa0-4d00-d4ad-7a0836f6a63a"
      },
      "source": [
        "name = web_page.find_all('h1')[1].text\n",
        "print(name)"
      ],
      "execution_count": 7,
      "outputs": [
        {
          "output_type": "stream",
          "text": [
            "藤井　文彦\n"
          ],
          "name": "stdout"
        }
      ]
    },
    {
      "cell_type": "code",
      "metadata": {
        "id": "5ElJk8A4vMDJ",
        "colab_type": "code",
        "colab": {
          "base_uri": "https://localhost:8080/",
          "height": 259
        },
        "outputId": "7c5688e7-edd3-48d4-c938-2d16d99e5e7f"
      },
      "source": [
        "web_page.find('div', 'teach').find_all('h3')"
      ],
      "execution_count": 8,
      "outputs": [
        {
          "output_type": "execute_result",
          "data": {
            "text/plain": [
              "[<h3>学歴・取得学位</h3>,\n",
              " <h3>主な職歴</h3>,\n",
              " <h3>所属学会</h3>,\n",
              " <h3>主な研究分野</h3>,\n",
              " <h3>主な研究課題</h3>,\n",
              " <h3>競争的資金・科学研究費補助金</h3>,\n",
              " <h3>共同・受託研究</h3>,\n",
              " <h3>主な研究業績</h3>,\n",
              " <h3>特許</h3>,\n",
              " <h3>地域貢献活動</h3>,\n",
              " <h3>講演会実績</h3>,\n",
              " <h3>講演など協力可能なテーマ及び実績</h3>,\n",
              " <h3>その他</h3>,\n",
              " <h3>自己PR・共同研究の提案等</h3>]"
            ]
          },
          "metadata": {
            "tags": []
          },
          "execution_count": 8
        }
      ]
    },
    {
      "cell_type": "code",
      "metadata": {
        "id": "HDEIPjPltPn3",
        "colab_type": "code",
        "colab": {
          "base_uri": "https://localhost:8080/",
          "height": 121
        },
        "outputId": "389feecf-665b-4ec0-a259-35888dbdc20b"
      },
      "source": [
        "h3s = web_page.find('div', 'teach').find_all('h3')\n",
        "for h3 in h3s:\n",
        "  if('主な研究分野' in h3 or '主な研究課題' in h3):\n",
        "    print(h3.next_sibling.next_sibling.text)"
      ],
      "execution_count": 9,
      "outputs": [
        {
          "output_type": "stream",
          "text": [
            " 生物物理学（近赤外分光法、蛍光相関分光法、半導体ナノ結晶）\n",
            "\n",
            "近赤外光を用いた個体レベルでの生体光計測\n",
            "蛍光相関分光法を用いた微小空間での分子挙動の解析\n",
            "半導体ナノ結晶を用いた標識法の開発と分子挙動の解析\n",
            "\n"
          ],
          "name": "stdout"
        }
      ]
    }
  ]
}