{
  "nbformat": 4,
  "nbformat_minor": 0,
  "metadata": {
    "kernelspec": {
      "display_name": "Python 3",
      "language": "python",
      "name": "python3"
    },
    "language_info": {
      "codemirror_mode": {
        "name": "ipython",
        "version": 3
      },
      "file_extension": ".py",
      "mimetype": "text/x-python",
      "name": "python",
      "nbconvert_exporter": "python",
      "pygments_lexer": "ipython3",
      "version": "3.6.1"
    },
    "colab": {
      "name": "scrape3.ipynb",
      "provenance": [],
      "collapsed_sections": [],
      "include_colab_link": true
    }
  },
  "cells": [
    {
      "cell_type": "markdown",
      "metadata": {
        "id": "view-in-github",
        "colab_type": "text"
      },
      "source": [
        "<a href=\"https://colab.research.google.com/github/amicuscertus/Harbor001/blob/master/scrape3.ipynb\" target=\"_parent\"><img src=\"https://colab.research.google.com/assets/colab-badge.svg\" alt=\"Open In Colab\"/></a>"
      ]
    },
    {
      "cell_type": "code",
      "metadata": {
        "id": "88vIYTX3LnEM",
        "colab_type": "code",
        "outputId": "6a3ad6b6-5752-435b-cf53-76e8cddee87b",
        "colab": {
          "base_uri": "https://localhost:8080/",
          "height": 141
        }
      },
      "source": [
        "!pip install requests\n",
        "!pip install beautifulsoup4"
      ],
      "execution_count": 1,
      "outputs": [
        {
          "output_type": "stream",
          "text": [
            "Requirement already satisfied: requests in /usr/local/lib/python3.6/dist-packages (2.21.0)\n",
            "Requirement already satisfied: idna<2.9,>=2.5 in /usr/local/lib/python3.6/dist-packages (from requests) (2.8)\n",
            "Requirement already satisfied: chardet<3.1.0,>=3.0.2 in /usr/local/lib/python3.6/dist-packages (from requests) (3.0.4)\n",
            "Requirement already satisfied: urllib3<1.25,>=1.21.1 in /usr/local/lib/python3.6/dist-packages (from requests) (1.24.3)\n",
            "Requirement already satisfied: certifi>=2017.4.17 in /usr/local/lib/python3.6/dist-packages (from requests) (2019.9.11)\n",
            "Requirement already satisfied: beautifulsoup4 in /usr/local/lib/python3.6/dist-packages (4.6.3)\n"
          ],
          "name": "stdout"
        }
      ]
    },
    {
      "cell_type": "code",
      "metadata": {
        "id": "MNd4cMCqLnEU",
        "colab_type": "code",
        "colab": {}
      },
      "source": [
        "import numpy as np\n",
        "import pandas as pd\n",
        "import requests\n",
        "import bs4\n",
        "import lxml.etree as xml"
      ],
      "execution_count": 0,
      "outputs": []
    },
    {
      "cell_type": "code",
      "metadata": {
        "id": "LHjrmYTQLnEX",
        "colab_type": "code",
        "outputId": "0a018aae-6827-47ef-d34f-398b99d0cee7",
        "colab": {
          "base_uri": "https://localhost:8080/",
          "height": 35
        }
      },
      "source": [
        "url = \"https://www.kobegakuin.ac.jp/information/public/teacher/pharmacy/\"\n",
        "requests.get(url)"
      ],
      "execution_count": 3,
      "outputs": [
        {
          "output_type": "execute_result",
          "data": {
            "text/plain": [
              "<Response [200]>"
            ]
          },
          "metadata": {
            "tags": []
          },
          "execution_count": 3
        }
      ]
    },
    {
      "cell_type": "code",
      "metadata": {
        "id": "2weGfDamLnEp",
        "colab_type": "code",
        "colab": {}
      },
      "source": [
        "web_page = bs4.BeautifulSoup(requests.get(url, {}).content, \"html.parser\")"
      ],
      "execution_count": 0,
      "outputs": []
    },
    {
      "cell_type": "code",
      "metadata": {
        "id": "42WWlKjkANuB",
        "colab_type": "code",
        "outputId": "148ae110-0f55-4b3e-de5d-3853abdc9c10",
        "colab": {
          "base_uri": "https://localhost:8080/",
          "height": 1000
        }
      },
      "source": [
        "web_page.find_all('p', 'name')"
      ],
      "execution_count": 6,
      "outputs": [
        {
          "output_type": "execute_result",
          "data": {
            "text/plain": [
              "[<p class=\"name\"><a href=\"/information/public/teacher/pharmacy/yamazaki.html\">山﨑 裕康<span>詳細</span></a></p>,\n",
              " <p class=\"name\"><a href=\"/information/public/teacher/pharmacy/ichikawa.html\">市川 秀喜<span>詳細</span></a></p>,\n",
              " <p class=\"name\"><a href=\"/information/public/teacher/pharmacy/yamahara.html\">山原 弘<span>詳細</span></a></p>,\n",
              " <p class=\"name\"><a href=\"/information/public/teacher/pharmacy/uemura.html\">植村 眞知子<span>詳細</span></a></p>,\n",
              " <p class=\"name\"><a href=\"/information/public/teacher/pharmacy/fujii.html\">藤井 文彦<span>詳細</span></a></p>,\n",
              " <p class=\"name\"><a href=\"/information/public/teacher/pharmacy/michida.html\">道田 隆<span>詳細</span></a></p>,\n",
              " <p class=\"name\"><a href=\"/information/public/teacher/pharmacy/utsumi.html\">内海 美保<span>詳細</span></a></p>,\n",
              " <p class=\"name\"><a href=\"/information/public/teacher/pharmacy/hirano.html\">平野 裕之<span>詳細</span></a></p>,\n",
              " <p class=\"name\"><a href=\"/information/public/teacher/pharmacy/maeda.html\">前田 光子<span>詳細</span></a></p>,\n",
              " <p class=\"name\"><a href=\"/information/public/teacher/pharmacy/ando.html\">安藤 徹<span>詳細</span></a></p>,\n",
              " <p class=\"name\"><a href=\"/information/public/teacher/pharmacy/inagaki.html\">稲垣 冬彦<span>詳細</span></a></p>,\n",
              " <p class=\"name\"><a href=\"/information/public/teacher/pharmacy/en.html\">袁 德其<span>詳細</span></a></p>,\n",
              " <p class=\"name\"><a href=\"/information/public/teacher/pharmacy/sasaki.html\">佐々木 秀明<span>詳細</span></a></p>,\n",
              " <p class=\"name\"><a href=\"/information/public/teacher/pharmacy/tsuda.html\">津田 裕子<span>詳細</span></a></p>,\n",
              " <p class=\"name\"><a href=\"/information/public/teacher/pharmacy/kamiya.html\">神谷 浩平<span>詳細</span></a></p>,\n",
              " <p class=\"name\"><a href=\"/information/public/teacher/pharmacy/hioki.html\">日置 和人<span>詳細</span></a></p>,\n",
              " <p class=\"name\"><a href=\"/information/public/teacher/pharmacy/hidaka.html\">日高 興士<span>詳細</span></a></p>,\n",
              " <p class=\"name\"><a href=\"/information/public/teacher/pharmacy/takimoto.html\">瀧本 竜哉<span>詳細</span></a></p>,\n",
              " <p class=\"name\"><a href=\"/information/public/teacher/pharmacy/houzyou.html\">北條 恵子<span>詳細</span></a></p>,\n",
              " <p class=\"name\"><a href=\"/information/public/teacher/pharmacy/fukudome.html\">福留 誠<span>詳細</span></a></p>,\n",
              " <p class=\"name\"><a href=\"/information/public/teacher/pharmacy/okamoto.html\">岡本 正志<span>詳細</span></a></p>,\n",
              " <p class=\"name\"><a href=\"/information/public/teacher/pharmacy/kasuya.html\">糟谷 史代<span>詳細</span></a></p>,\n",
              " <p class=\"name\"><a href=\"/information/public/teacher/pharmacy/yamazaki.html\">山﨑 裕康<span>詳細</span></a></p>,\n",
              " <p class=\"name\"><a href=\"/information/public/teacher/pharmacy/iguchi.html\">井口 伸<span>詳細</span></a></p>,\n",
              " <p class=\"name\"><a href=\"/information/public/teacher/pharmacy/takahashi.html\">髙橋 隆幸<span>詳細</span></a></p>,\n",
              " <p class=\"name\"><a href=\"/information/public/teacher/pharmacy/yamaguchi.html\">山口 孝子<span>詳細</span></a></p>,\n",
              " <p class=\"name\"><a href=\"/information/public/teacher/pharmacy/yamashita.html\">山下 琢矢<span>詳細</span></a></p>,\n",
              " <p class=\"name\"><a href=\"/information/public/teacher/pharmacy/kawai.html\">河合 裕一<span>詳細</span></a></p>,\n",
              " <p class=\"name\"><a href=\"/information/public/teacher/pharmacy/takano.html\">鷹野 正興<span>詳細</span></a></p>,\n",
              " <p class=\"name\"><a href=\"/information/public/teacher/pharmacy/tsunoda.html\">角田 慎一<span>詳細</span></a></p>,\n",
              " <p class=\"name\"><a href=\"/information/public/teacher/pharmacy/yayama.html\">屋山 勝俊<span>詳細</span></a></p>,\n",
              " <p class=\"name\"><a href=\"/information/public/teacher/pharmacy/ri.html\">李 英培<span>詳細</span></a></p>,\n",
              " <p class=\"name\"><a href=\"/information/public/teacher/pharmacy/enomoto.html\">榎本 理世<span>詳細</span></a></p>,\n",
              " <p class=\"name\"><a href=\"/information/public/teacher/pharmacy/maekura.html\">前倉 孝治<span>詳細</span></a></p>,\n",
              " <p class=\"name\"><a href=\"/information/public/teacher/pharmacy/onodera.html\">小野寺 章<span>詳細</span></a></p>,\n",
              " <p class=\"name\"><a href=\"/information/public/teacher/pharmacy/shin.html\">新 真理子<span>詳細</span></a></p>,\n",
              " <p class=\"name\"><a href=\"/information/public/teacher/pharmacy/narahara.html\">楢原 正則<span>詳細</span></a></p>,\n",
              " <p class=\"name\"><a href=\"/information/public/teacher/pharmacy/hamada.html\">濱田 美知子<span>詳細</span></a></p>,\n",
              " <p class=\"name\"><a href=\"/information/public/teacher/pharmacy/inoue.html\">井上 雅己<span>詳細</span></a></p>,\n",
              " <p class=\"name\"><a href=\"/information/public/teacher/pharmacy/terada.html\">寺田 侑加<span>詳細</span></a></p>,\n",
              " <p class=\"name\"><a href=\"/information/public/teacher/pharmacy/kume.html\">久米 典昭<span>詳細</span></a></p>,\n",
              " <p class=\"name\"><a href=\"/information/public/teacher/pharmacy/shirakawa.html\">白川 晶一<span>詳細</span></a></p>,\n",
              " <p class=\"name\"><a href=\"/information/public/teacher/pharmacy/sugioka.html\">杉岡 信幸<span>詳細</span></a></p>,\n",
              " <p class=\"name\"><a href=\"/information/public/teacher/pharmacy/takeda.html\">武田 真莉子<span>詳細</span></a></p>,\n",
              " <p class=\"name\"><a href=\"/information/public/teacher/pharmacy/tokuyama.html\">徳山 尚吾<span>詳細</span></a></p>,\n",
              " <p class=\"name\"><a href=\"/information/public/teacher/pharmacy/fukushima_s.html\">福島 昭二<span>詳細</span></a></p>,\n",
              " <p class=\"name\"><a href=\"/information/public/teacher/pharmacy/kishimoto.html\">岸本 修一<span>詳細</span></a></p>,\n",
              " <p class=\"name\"><a href=\"/information/public/teacher/pharmacy/nakagawa.html\">中川 左理<span>詳細</span></a></p>,\n",
              " <p class=\"name\"><a href=\"/information/public/teacher/pharmacy/andou.html\">安藤 基純<span>詳細</span></a></p>,\n",
              " <p class=\"name\"><a href=\"/information/public/teacher/pharmacy/ikemura.html\">池村 舞<span>詳細</span></a></p>,\n",
              " <p class=\"name\"><a href=\"/information/public/teacher/pharmacy/irie.html\">入江 慶<span>詳細</span></a></p>,\n",
              " <p class=\"name\"><a href=\"/information/public/teacher/pharmacy/obata.html\">小畑 友紀雄<span>詳細</span></a></p>,\n",
              " <p class=\"name\"><a href=\"/information/public/teacher/pharmacy/kamei.html\">亀井 敬泰<span>詳細</span></a></p>,\n",
              " <p class=\"name\"><a href=\"/information/public/teacher/pharmacy/kanmachi.html\">上町 亜希子<span>詳細</span></a></p>,\n",
              " <p class=\"name\"><a href=\"/information/public/teacher/pharmacy/suzuki.html\">鈴木 亮佑<span>詳細</span></a></p>,\n",
              " <p class=\"name\"><a href=\"/information/public/teacher/pharmacy/tamiwa.html\">民輪　英之<span>詳細</span></a></p>,\n",
              " <p class=\"name\"><a href=\"/information/public/teacher/pharmacy/tsujimoto.html\">辻本 貴江<span>詳細</span></a></p>,\n",
              " <p class=\"name\"><a href=\"/information/public/teacher/pharmacy/nakamoto.html\">中本 賀寿夫<span>詳細</span></a></p>,\n",
              " <p class=\"name\"><a href=\"/information/public/teacher/pharmacy/hashimoto.html\">橋本 保彦<span>詳細</span></a></p>,\n",
              " <p class=\"name\"><a href=\"/information/public/teacher/pharmacy/fukushima.html\">福島 恵造<span>詳細</span></a></p>,\n",
              " <p class=\"name\"><a href=\"/information/public/teacher/pharmacy/morimoto.html\">森本 泰子<span>詳細</span></a></p>,\n",
              " <p class=\"name\"><a href=\"/information/public/teacher/pharmacy/hiraoka.html\">平岡 義範<span>詳細</span></a></p>]"
            ]
          },
          "metadata": {
            "tags": []
          },
          "execution_count": 6
        }
      ]
    },
    {
      "cell_type": "code",
      "metadata": {
        "id": "Spl84_7HLnFc",
        "colab_type": "code",
        "outputId": "5a443ae3-31c1-4417-d9db-b058828d72d7",
        "colab": {
          "base_uri": "https://localhost:8080/",
          "height": 1000
        }
      },
      "source": [
        "names = web_page.find_all('p', 'name')\n",
        "for name in names:\n",
        "  print(name.text)"
      ],
      "execution_count": 18,
      "outputs": [
        {
          "output_type": "stream",
          "text": [
            "山﨑 裕康詳細\n",
            "市川 秀喜詳細\n",
            "山原 弘詳細\n",
            "植村 眞知子詳細\n",
            "藤井 文彦詳細\n",
            "道田 隆詳細\n",
            "内海 美保詳細\n",
            "平野 裕之詳細\n",
            "前田 光子詳細\n",
            "安藤 徹詳細\n",
            "稲垣 冬彦詳細\n",
            "袁 德其詳細\n",
            "佐々木 秀明詳細\n",
            "津田 裕子詳細\n",
            "神谷 浩平詳細\n",
            "日置 和人詳細\n",
            "日高 興士詳細\n",
            "瀧本 竜哉詳細\n",
            "北條 恵子詳細\n",
            "福留 誠詳細\n",
            "岡本 正志詳細\n",
            "糟谷 史代詳細\n",
            "山﨑 裕康詳細\n",
            "井口 伸詳細\n",
            "髙橋 隆幸詳細\n",
            "山口 孝子詳細\n",
            "山下 琢矢詳細\n",
            "河合 裕一詳細\n",
            "鷹野 正興詳細\n",
            "角田 慎一詳細\n",
            "屋山 勝俊詳細\n",
            "李 英培詳細\n",
            "榎本 理世詳細\n",
            "前倉 孝治詳細\n",
            "小野寺 章詳細\n",
            "新 真理子詳細\n",
            "楢原 正則詳細\n",
            "濱田 美知子詳細\n",
            "井上 雅己詳細\n",
            "寺田 侑加詳細\n",
            "久米 典昭詳細\n",
            "白川 晶一詳細\n",
            "杉岡 信幸詳細\n",
            "武田 真莉子詳細\n",
            "徳山 尚吾詳細\n",
            "福島 昭二詳細\n",
            "岸本 修一詳細\n",
            "中川 左理詳細\n",
            "安藤 基純詳細\n",
            "池村 舞詳細\n",
            "入江 慶詳細\n",
            "小畑 友紀雄詳細\n",
            "亀井 敬泰詳細\n",
            "上町 亜希子詳細\n",
            "鈴木 亮佑詳細\n",
            "民輪　英之詳細\n",
            "辻本 貴江詳細\n",
            "中本 賀寿夫詳細\n",
            "橋本 保彦詳細\n",
            "福島 恵造詳細\n",
            "森本 泰子詳細\n",
            "平岡 義範詳細\n"
          ],
          "name": "stdout"
        }
      ]
    },
    {
      "cell_type": "code",
      "metadata": {
        "id": "2L8B4PrkRRUw",
        "colab_type": "code",
        "colab": {
          "base_uri": "https://localhost:8080/",
          "height": 1000
        },
        "outputId": "77dd081b-a83f-4d04-8fbb-8d0c6ec4428f"
      },
      "source": [
        "names = web_page.find_all('p', 'name')\n",
        "for name in names:\n",
        "  print(name.text.replace('詳細', ''))"
      ],
      "execution_count": 19,
      "outputs": [
        {
          "output_type": "stream",
          "text": [
            "山﨑 裕康\n",
            "市川 秀喜\n",
            "山原 弘\n",
            "植村 眞知子\n",
            "藤井 文彦\n",
            "道田 隆\n",
            "内海 美保\n",
            "平野 裕之\n",
            "前田 光子\n",
            "安藤 徹\n",
            "稲垣 冬彦\n",
            "袁 德其\n",
            "佐々木 秀明\n",
            "津田 裕子\n",
            "神谷 浩平\n",
            "日置 和人\n",
            "日高 興士\n",
            "瀧本 竜哉\n",
            "北條 恵子\n",
            "福留 誠\n",
            "岡本 正志\n",
            "糟谷 史代\n",
            "山﨑 裕康\n",
            "井口 伸\n",
            "髙橋 隆幸\n",
            "山口 孝子\n",
            "山下 琢矢\n",
            "河合 裕一\n",
            "鷹野 正興\n",
            "角田 慎一\n",
            "屋山 勝俊\n",
            "李 英培\n",
            "榎本 理世\n",
            "前倉 孝治\n",
            "小野寺 章\n",
            "新 真理子\n",
            "楢原 正則\n",
            "濱田 美知子\n",
            "井上 雅己\n",
            "寺田 侑加\n",
            "久米 典昭\n",
            "白川 晶一\n",
            "杉岡 信幸\n",
            "武田 真莉子\n",
            "徳山 尚吾\n",
            "福島 昭二\n",
            "岸本 修一\n",
            "中川 左理\n",
            "安藤 基純\n",
            "池村 舞\n",
            "入江 慶\n",
            "小畑 友紀雄\n",
            "亀井 敬泰\n",
            "上町 亜希子\n",
            "鈴木 亮佑\n",
            "民輪　英之\n",
            "辻本 貴江\n",
            "中本 賀寿夫\n",
            "橋本 保彦\n",
            "福島 恵造\n",
            "森本 泰子\n",
            "平岡 義範\n"
          ],
          "name": "stdout"
        }
      ]
    }
  ]
}