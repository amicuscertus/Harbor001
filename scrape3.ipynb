{
  "nbformat": 4,
  "nbformat_minor": 0,
  "metadata": {
    "kernelspec": {
      "display_name": "Python 3",
      "language": "python",
      "name": "python3"
    },
    "language_info": {
      "codemirror_mode": {
        "name": "ipython",
        "version": 3
      },
      "file_extension": ".py",
      "mimetype": "text/x-python",
      "name": "python",
      "nbconvert_exporter": "python",
      "pygments_lexer": "ipython3",
      "version": "3.6.1"
    },
    "colab": {
      "name": "scrape3.ipynb",
      "provenance": [],
      "collapsed_sections": [],
      "include_colab_link": true
    }
  },
  "cells": [
    {
      "cell_type": "markdown",
      "metadata": {
        "id": "view-in-github",
        "colab_type": "text"
      },
      "source": [
        "<a href=\"https://colab.research.google.com/github/amicuscertus/Harbor001/blob/master/scrape3.ipynb\" target=\"_parent\"><img src=\"https://colab.research.google.com/assets/colab-badge.svg\" alt=\"Open In Colab\"/></a>"
      ]
    },
    {
      "cell_type": "code",
      "metadata": {
        "id": "88vIYTX3LnEM",
        "colab_type": "code",
        "outputId": "cc495f69-0352-4a36-b2b3-647b28ff5a03",
        "colab": {
          "base_uri": "https://localhost:8080/",
          "height": 139
        }
      },
      "source": [
        "!pip install requests\n",
        "!pip install beautifulsoup4"
      ],
      "execution_count": 1,
      "outputs": [
        {
          "output_type": "stream",
          "text": [
            "Requirement already satisfied: requests in /usr/local/lib/python3.6/dist-packages (2.21.0)\n",
            "Requirement already satisfied: urllib3<1.25,>=1.21.1 in /usr/local/lib/python3.6/dist-packages (from requests) (1.24.3)\n",
            "Requirement already satisfied: chardet<3.1.0,>=3.0.2 in /usr/local/lib/python3.6/dist-packages (from requests) (3.0.4)\n",
            "Requirement already satisfied: idna<2.9,>=2.5 in /usr/local/lib/python3.6/dist-packages (from requests) (2.8)\n",
            "Requirement already satisfied: certifi>=2017.4.17 in /usr/local/lib/python3.6/dist-packages (from requests) (2019.9.11)\n",
            "Requirement already satisfied: beautifulsoup4 in /usr/local/lib/python3.6/dist-packages (4.6.3)\n"
          ],
          "name": "stdout"
        }
      ]
    },
    {
      "cell_type": "code",
      "metadata": {
        "id": "MNd4cMCqLnEU",
        "colab_type": "code",
        "colab": {}
      },
      "source": [
        "import numpy as np\n",
        "import pandas as pd\n",
        "import requests\n",
        "import bs4\n",
        "import lxml.etree as xml\n",
        "import urllib\n",
        "from urllib.parse import  urljoin"
      ],
      "execution_count": 0,
      "outputs": []
    },
    {
      "cell_type": "code",
      "metadata": {
        "id": "LHjrmYTQLnEX",
        "colab_type": "code",
        "outputId": "f49917b5-d7a5-4a03-c214-6d500d794fb4",
        "colab": {
          "base_uri": "https://localhost:8080/",
          "height": 34
        }
      },
      "source": [
        "url = \"https://www.kobegakuin.ac.jp/information/public/teacher/pharmacy/\"\n",
        "requests.get(url)"
      ],
      "execution_count": 3,
      "outputs": [
        {
          "output_type": "execute_result",
          "data": {
            "text/plain": [
              "<Response [200]>"
            ]
          },
          "metadata": {
            "tags": []
          },
          "execution_count": 3
        }
      ]
    },
    {
      "cell_type": "code",
      "metadata": {
        "id": "2weGfDamLnEp",
        "colab_type": "code",
        "colab": {}
      },
      "source": [
        "web_page = bs4.BeautifulSoup(requests.get(url, {}).content, \"html.parser\")"
      ],
      "execution_count": 0,
      "outputs": []
    },
    {
      "cell_type": "code",
      "metadata": {
        "id": "42WWlKjkANuB",
        "colab_type": "code",
        "outputId": "24c21583-9f31-4cf7-9567-89ebbbdf4193",
        "colab": {
          "base_uri": "https://localhost:8080/",
          "height": 1000
        }
      },
      "source": [
        "web_page.find_all('p', 'name')"
      ],
      "execution_count": 5,
      "outputs": [
        {
          "output_type": "execute_result",
          "data": {
            "text/plain": [
              "[<p class=\"name\"><a href=\"/information/public/teacher/pharmacy/yamazaki.html\">山﨑 裕康<span>詳細</span></a></p>,\n",
              " <p class=\"name\"><a href=\"/information/public/teacher/pharmacy/ichikawa.html\">市川 秀喜<span>詳細</span></a></p>,\n",
              " <p class=\"name\"><a href=\"/information/public/teacher/pharmacy/yamahara.html\">山原 弘<span>詳細</span></a></p>,\n",
              " <p class=\"name\"><a href=\"/information/public/teacher/pharmacy/uemura.html\">植村 眞知子<span>詳細</span></a></p>,\n",
              " <p class=\"name\"><a href=\"/information/public/teacher/pharmacy/fujii.html\">藤井 文彦<span>詳細</span></a></p>,\n",
              " <p class=\"name\"><a href=\"/information/public/teacher/pharmacy/michida.html\">道田 隆<span>詳細</span></a></p>,\n",
              " <p class=\"name\"><a href=\"/information/public/teacher/pharmacy/utsumi.html\">内海 美保<span>詳細</span></a></p>,\n",
              " <p class=\"name\"><a href=\"/information/public/teacher/pharmacy/hirano.html\">平野 裕之<span>詳細</span></a></p>,\n",
              " <p class=\"name\"><a href=\"/information/public/teacher/pharmacy/maeda.html\">前田 光子<span>詳細</span></a></p>,\n",
              " <p class=\"name\"><a href=\"/information/public/teacher/pharmacy/ando.html\">安藤 徹<span>詳細</span></a></p>,\n",
              " <p class=\"name\"><a href=\"/information/public/teacher/pharmacy/inagaki.html\">稲垣 冬彦<span>詳細</span></a></p>,\n",
              " <p class=\"name\"><a href=\"/information/public/teacher/pharmacy/en.html\">袁 德其<span>詳細</span></a></p>,\n",
              " <p class=\"name\"><a href=\"/information/public/teacher/pharmacy/sasaki.html\">佐々木 秀明<span>詳細</span></a></p>,\n",
              " <p class=\"name\"><a href=\"/information/public/teacher/pharmacy/tsuda.html\">津田 裕子<span>詳細</span></a></p>,\n",
              " <p class=\"name\"><a href=\"/information/public/teacher/pharmacy/kamiya.html\">神谷 浩平<span>詳細</span></a></p>,\n",
              " <p class=\"name\"><a href=\"/information/public/teacher/pharmacy/hioki.html\">日置 和人<span>詳細</span></a></p>,\n",
              " <p class=\"name\"><a href=\"/information/public/teacher/pharmacy/hidaka.html\">日高 興士<span>詳細</span></a></p>,\n",
              " <p class=\"name\"><a href=\"/information/public/teacher/pharmacy/takimoto.html\">瀧本 竜哉<span>詳細</span></a></p>,\n",
              " <p class=\"name\"><a href=\"/information/public/teacher/pharmacy/houzyou.html\">北條 恵子<span>詳細</span></a></p>,\n",
              " <p class=\"name\"><a href=\"/information/public/teacher/pharmacy/fukudome.html\">福留 誠<span>詳細</span></a></p>,\n",
              " <p class=\"name\"><a href=\"/information/public/teacher/pharmacy/okamoto.html\">岡本 正志<span>詳細</span></a></p>,\n",
              " <p class=\"name\"><a href=\"/information/public/teacher/pharmacy/kasuya.html\">糟谷 史代<span>詳細</span></a></p>,\n",
              " <p class=\"name\"><a href=\"/information/public/teacher/pharmacy/yamazaki.html\">山﨑 裕康<span>詳細</span></a></p>,\n",
              " <p class=\"name\"><a href=\"/information/public/teacher/pharmacy/iguchi.html\">井口 伸<span>詳細</span></a></p>,\n",
              " <p class=\"name\"><a href=\"/information/public/teacher/pharmacy/takahashi.html\">髙橋 隆幸<span>詳細</span></a></p>,\n",
              " <p class=\"name\"><a href=\"/information/public/teacher/pharmacy/yamaguchi.html\">山口 孝子<span>詳細</span></a></p>,\n",
              " <p class=\"name\"><a href=\"/information/public/teacher/pharmacy/yamashita.html\">山下 琢矢<span>詳細</span></a></p>,\n",
              " <p class=\"name\"><a href=\"/information/public/teacher/pharmacy/kawai.html\">河合 裕一<span>詳細</span></a></p>,\n",
              " <p class=\"name\"><a href=\"/information/public/teacher/pharmacy/takano.html\">鷹野 正興<span>詳細</span></a></p>,\n",
              " <p class=\"name\"><a href=\"/information/public/teacher/pharmacy/tsunoda.html\">角田 慎一<span>詳細</span></a></p>,\n",
              " <p class=\"name\"><a href=\"/information/public/teacher/pharmacy/yayama.html\">屋山 勝俊<span>詳細</span></a></p>,\n",
              " <p class=\"name\"><a href=\"/information/public/teacher/pharmacy/ri.html\">李 英培<span>詳細</span></a></p>,\n",
              " <p class=\"name\"><a href=\"/information/public/teacher/pharmacy/enomoto.html\">榎本 理世<span>詳細</span></a></p>,\n",
              " <p class=\"name\"><a href=\"/information/public/teacher/pharmacy/maekura.html\">前倉 孝治<span>詳細</span></a></p>,\n",
              " <p class=\"name\"><a href=\"/information/public/teacher/pharmacy/onodera.html\">小野寺 章<span>詳細</span></a></p>,\n",
              " <p class=\"name\"><a href=\"/information/public/teacher/pharmacy/shin.html\">新 真理子<span>詳細</span></a></p>,\n",
              " <p class=\"name\"><a href=\"/information/public/teacher/pharmacy/narahara.html\">楢原 正則<span>詳細</span></a></p>,\n",
              " <p class=\"name\"><a href=\"/information/public/teacher/pharmacy/hamada.html\">濱田 美知子<span>詳細</span></a></p>,\n",
              " <p class=\"name\"><a href=\"/information/public/teacher/pharmacy/inoue.html\">井上 雅己<span>詳細</span></a></p>,\n",
              " <p class=\"name\"><a href=\"/information/public/teacher/pharmacy/terada.html\">寺田 侑加<span>詳細</span></a></p>,\n",
              " <p class=\"name\"><a href=\"/information/public/teacher/pharmacy/kume.html\">久米 典昭<span>詳細</span></a></p>,\n",
              " <p class=\"name\"><a href=\"/information/public/teacher/pharmacy/shirakawa.html\">白川 晶一<span>詳細</span></a></p>,\n",
              " <p class=\"name\"><a href=\"/information/public/teacher/pharmacy/sugioka.html\">杉岡 信幸<span>詳細</span></a></p>,\n",
              " <p class=\"name\"><a href=\"/information/public/teacher/pharmacy/takeda.html\">武田 真莉子<span>詳細</span></a></p>,\n",
              " <p class=\"name\"><a href=\"/information/public/teacher/pharmacy/tokuyama.html\">徳山 尚吾<span>詳細</span></a></p>,\n",
              " <p class=\"name\"><a href=\"/information/public/teacher/pharmacy/fukushima_s.html\">福島 昭二<span>詳細</span></a></p>,\n",
              " <p class=\"name\"><a href=\"/information/public/teacher/pharmacy/kishimoto.html\">岸本 修一<span>詳細</span></a></p>,\n",
              " <p class=\"name\"><a href=\"/information/public/teacher/pharmacy/nakagawa.html\">中川 左理<span>詳細</span></a></p>,\n",
              " <p class=\"name\"><a href=\"/information/public/teacher/pharmacy/andou.html\">安藤 基純<span>詳細</span></a></p>,\n",
              " <p class=\"name\"><a href=\"/information/public/teacher/pharmacy/ikemura.html\">池村 舞<span>詳細</span></a></p>,\n",
              " <p class=\"name\"><a href=\"/information/public/teacher/pharmacy/irie.html\">入江 慶<span>詳細</span></a></p>,\n",
              " <p class=\"name\"><a href=\"/information/public/teacher/pharmacy/obata.html\">小畑 友紀雄<span>詳細</span></a></p>,\n",
              " <p class=\"name\"><a href=\"/information/public/teacher/pharmacy/kamei.html\">亀井 敬泰<span>詳細</span></a></p>,\n",
              " <p class=\"name\"><a href=\"/information/public/teacher/pharmacy/kanmachi.html\">上町 亜希子<span>詳細</span></a></p>,\n",
              " <p class=\"name\"><a href=\"/information/public/teacher/pharmacy/suzuki.html\">鈴木 亮佑<span>詳細</span></a></p>,\n",
              " <p class=\"name\"><a href=\"/information/public/teacher/pharmacy/tamiwa.html\">民輪　英之<span>詳細</span></a></p>,\n",
              " <p class=\"name\"><a href=\"/information/public/teacher/pharmacy/tsujimoto.html\">辻本 貴江<span>詳細</span></a></p>,\n",
              " <p class=\"name\"><a href=\"/information/public/teacher/pharmacy/nakamoto.html\">中本 賀寿夫<span>詳細</span></a></p>,\n",
              " <p class=\"name\"><a href=\"/information/public/teacher/pharmacy/hashimoto.html\">橋本 保彦<span>詳細</span></a></p>,\n",
              " <p class=\"name\"><a href=\"/information/public/teacher/pharmacy/fukushima.html\">福島 恵造<span>詳細</span></a></p>,\n",
              " <p class=\"name\"><a href=\"/information/public/teacher/pharmacy/morimoto.html\">森本 泰子<span>詳細</span></a></p>,\n",
              " <p class=\"name\"><a href=\"/information/public/teacher/pharmacy/hiraoka.html\">平岡 義範<span>詳細</span></a></p>]"
            ]
          },
          "metadata": {
            "tags": []
          },
          "execution_count": 5
        }
      ]
    },
    {
      "cell_type": "code",
      "metadata": {
        "id": "CMy8-CXbOKlN",
        "colab_type": "code",
        "colab": {}
      },
      "source": [
        "names = web_page.find_all('p', 'name')"
      ],
      "execution_count": 0,
      "outputs": []
    },
    {
      "cell_type": "code",
      "metadata": {
        "id": "Spl84_7HLnFc",
        "colab_type": "code",
        "outputId": "c0ab7cfa-6a7f-4f01-9eff-314aa6bdeaa4",
        "colab": {
          "base_uri": "https://localhost:8080/",
          "height": 1000
        }
      },
      "source": [
        "for name in names:\n",
        "  print(name.a)"
      ],
      "execution_count": 7,
      "outputs": [
        {
          "output_type": "stream",
          "text": [
            "<a href=\"/information/public/teacher/pharmacy/yamazaki.html\">山﨑 裕康<span>詳細</span></a>\n",
            "<a href=\"/information/public/teacher/pharmacy/ichikawa.html\">市川 秀喜<span>詳細</span></a>\n",
            "<a href=\"/information/public/teacher/pharmacy/yamahara.html\">山原 弘<span>詳細</span></a>\n",
            "<a href=\"/information/public/teacher/pharmacy/uemura.html\">植村 眞知子<span>詳細</span></a>\n",
            "<a href=\"/information/public/teacher/pharmacy/fujii.html\">藤井 文彦<span>詳細</span></a>\n",
            "<a href=\"/information/public/teacher/pharmacy/michida.html\">道田 隆<span>詳細</span></a>\n",
            "<a href=\"/information/public/teacher/pharmacy/utsumi.html\">内海 美保<span>詳細</span></a>\n",
            "<a href=\"/information/public/teacher/pharmacy/hirano.html\">平野 裕之<span>詳細</span></a>\n",
            "<a href=\"/information/public/teacher/pharmacy/maeda.html\">前田 光子<span>詳細</span></a>\n",
            "<a href=\"/information/public/teacher/pharmacy/ando.html\">安藤 徹<span>詳細</span></a>\n",
            "<a href=\"/information/public/teacher/pharmacy/inagaki.html\">稲垣 冬彦<span>詳細</span></a>\n",
            "<a href=\"/information/public/teacher/pharmacy/en.html\">袁 德其<span>詳細</span></a>\n",
            "<a href=\"/information/public/teacher/pharmacy/sasaki.html\">佐々木 秀明<span>詳細</span></a>\n",
            "<a href=\"/information/public/teacher/pharmacy/tsuda.html\">津田 裕子<span>詳細</span></a>\n",
            "<a href=\"/information/public/teacher/pharmacy/kamiya.html\">神谷 浩平<span>詳細</span></a>\n",
            "<a href=\"/information/public/teacher/pharmacy/hioki.html\">日置 和人<span>詳細</span></a>\n",
            "<a href=\"/information/public/teacher/pharmacy/hidaka.html\">日高 興士<span>詳細</span></a>\n",
            "<a href=\"/information/public/teacher/pharmacy/takimoto.html\">瀧本 竜哉<span>詳細</span></a>\n",
            "<a href=\"/information/public/teacher/pharmacy/houzyou.html\">北條 恵子<span>詳細</span></a>\n",
            "<a href=\"/information/public/teacher/pharmacy/fukudome.html\">福留 誠<span>詳細</span></a>\n",
            "<a href=\"/information/public/teacher/pharmacy/okamoto.html\">岡本 正志<span>詳細</span></a>\n",
            "<a href=\"/information/public/teacher/pharmacy/kasuya.html\">糟谷 史代<span>詳細</span></a>\n",
            "<a href=\"/information/public/teacher/pharmacy/yamazaki.html\">山﨑 裕康<span>詳細</span></a>\n",
            "<a href=\"/information/public/teacher/pharmacy/iguchi.html\">井口 伸<span>詳細</span></a>\n",
            "<a href=\"/information/public/teacher/pharmacy/takahashi.html\">髙橋 隆幸<span>詳細</span></a>\n",
            "<a href=\"/information/public/teacher/pharmacy/yamaguchi.html\">山口 孝子<span>詳細</span></a>\n",
            "<a href=\"/information/public/teacher/pharmacy/yamashita.html\">山下 琢矢<span>詳細</span></a>\n",
            "<a href=\"/information/public/teacher/pharmacy/kawai.html\">河合 裕一<span>詳細</span></a>\n",
            "<a href=\"/information/public/teacher/pharmacy/takano.html\">鷹野 正興<span>詳細</span></a>\n",
            "<a href=\"/information/public/teacher/pharmacy/tsunoda.html\">角田 慎一<span>詳細</span></a>\n",
            "<a href=\"/information/public/teacher/pharmacy/yayama.html\">屋山 勝俊<span>詳細</span></a>\n",
            "<a href=\"/information/public/teacher/pharmacy/ri.html\">李 英培<span>詳細</span></a>\n",
            "<a href=\"/information/public/teacher/pharmacy/enomoto.html\">榎本 理世<span>詳細</span></a>\n",
            "<a href=\"/information/public/teacher/pharmacy/maekura.html\">前倉 孝治<span>詳細</span></a>\n",
            "<a href=\"/information/public/teacher/pharmacy/onodera.html\">小野寺 章<span>詳細</span></a>\n",
            "<a href=\"/information/public/teacher/pharmacy/shin.html\">新 真理子<span>詳細</span></a>\n",
            "<a href=\"/information/public/teacher/pharmacy/narahara.html\">楢原 正則<span>詳細</span></a>\n",
            "<a href=\"/information/public/teacher/pharmacy/hamada.html\">濱田 美知子<span>詳細</span></a>\n",
            "<a href=\"/information/public/teacher/pharmacy/inoue.html\">井上 雅己<span>詳細</span></a>\n",
            "<a href=\"/information/public/teacher/pharmacy/terada.html\">寺田 侑加<span>詳細</span></a>\n",
            "<a href=\"/information/public/teacher/pharmacy/kume.html\">久米 典昭<span>詳細</span></a>\n",
            "<a href=\"/information/public/teacher/pharmacy/shirakawa.html\">白川 晶一<span>詳細</span></a>\n",
            "<a href=\"/information/public/teacher/pharmacy/sugioka.html\">杉岡 信幸<span>詳細</span></a>\n",
            "<a href=\"/information/public/teacher/pharmacy/takeda.html\">武田 真莉子<span>詳細</span></a>\n",
            "<a href=\"/information/public/teacher/pharmacy/tokuyama.html\">徳山 尚吾<span>詳細</span></a>\n",
            "<a href=\"/information/public/teacher/pharmacy/fukushima_s.html\">福島 昭二<span>詳細</span></a>\n",
            "<a href=\"/information/public/teacher/pharmacy/kishimoto.html\">岸本 修一<span>詳細</span></a>\n",
            "<a href=\"/information/public/teacher/pharmacy/nakagawa.html\">中川 左理<span>詳細</span></a>\n",
            "<a href=\"/information/public/teacher/pharmacy/andou.html\">安藤 基純<span>詳細</span></a>\n",
            "<a href=\"/information/public/teacher/pharmacy/ikemura.html\">池村 舞<span>詳細</span></a>\n",
            "<a href=\"/information/public/teacher/pharmacy/irie.html\">入江 慶<span>詳細</span></a>\n",
            "<a href=\"/information/public/teacher/pharmacy/obata.html\">小畑 友紀雄<span>詳細</span></a>\n",
            "<a href=\"/information/public/teacher/pharmacy/kamei.html\">亀井 敬泰<span>詳細</span></a>\n",
            "<a href=\"/information/public/teacher/pharmacy/kanmachi.html\">上町 亜希子<span>詳細</span></a>\n",
            "<a href=\"/information/public/teacher/pharmacy/suzuki.html\">鈴木 亮佑<span>詳細</span></a>\n",
            "<a href=\"/information/public/teacher/pharmacy/tamiwa.html\">民輪　英之<span>詳細</span></a>\n",
            "<a href=\"/information/public/teacher/pharmacy/tsujimoto.html\">辻本 貴江<span>詳細</span></a>\n",
            "<a href=\"/information/public/teacher/pharmacy/nakamoto.html\">中本 賀寿夫<span>詳細</span></a>\n",
            "<a href=\"/information/public/teacher/pharmacy/hashimoto.html\">橋本 保彦<span>詳細</span></a>\n",
            "<a href=\"/information/public/teacher/pharmacy/fukushima.html\">福島 恵造<span>詳細</span></a>\n",
            "<a href=\"/information/public/teacher/pharmacy/morimoto.html\">森本 泰子<span>詳細</span></a>\n",
            "<a href=\"/information/public/teacher/pharmacy/hiraoka.html\">平岡 義範<span>詳細</span></a>\n"
          ],
          "name": "stdout"
        }
      ]
    },
    {
      "cell_type": "code",
      "metadata": {
        "id": "IpJsWKVS-HOV",
        "colab_type": "code",
        "colab": {
          "base_uri": "https://localhost:8080/",
          "height": 1000
        },
        "outputId": "9135324f-fbd5-434a-9f27-2bf1af432faa"
      },
      "source": [
        "for name in names:\n",
        "  print(name.a.next_element)"
      ],
      "execution_count": 8,
      "outputs": [
        {
          "output_type": "stream",
          "text": [
            "山﨑 裕康\n",
            "市川 秀喜\n",
            "山原 弘\n",
            "植村 眞知子\n",
            "藤井 文彦\n",
            "道田 隆\n",
            "内海 美保\n",
            "平野 裕之\n",
            "前田 光子\n",
            "安藤 徹\n",
            "稲垣 冬彦\n",
            "袁 德其\n",
            "佐々木 秀明\n",
            "津田 裕子\n",
            "神谷 浩平\n",
            "日置 和人\n",
            "日高 興士\n",
            "瀧本 竜哉\n",
            "北條 恵子\n",
            "福留 誠\n",
            "岡本 正志\n",
            "糟谷 史代\n",
            "山﨑 裕康\n",
            "井口 伸\n",
            "髙橋 隆幸\n",
            "山口 孝子\n",
            "山下 琢矢\n",
            "河合 裕一\n",
            "鷹野 正興\n",
            "角田 慎一\n",
            "屋山 勝俊\n",
            "李 英培\n",
            "榎本 理世\n",
            "前倉 孝治\n",
            "小野寺 章\n",
            "新 真理子\n",
            "楢原 正則\n",
            "濱田 美知子\n",
            "井上 雅己\n",
            "寺田 侑加\n",
            "久米 典昭\n",
            "白川 晶一\n",
            "杉岡 信幸\n",
            "武田 真莉子\n",
            "徳山 尚吾\n",
            "福島 昭二\n",
            "岸本 修一\n",
            "中川 左理\n",
            "安藤 基純\n",
            "池村 舞\n",
            "入江 慶\n",
            "小畑 友紀雄\n",
            "亀井 敬泰\n",
            "上町 亜希子\n",
            "鈴木 亮佑\n",
            "民輪　英之\n",
            "辻本 貴江\n",
            "中本 賀寿夫\n",
            "橋本 保彦\n",
            "福島 恵造\n",
            "森本 泰子\n",
            "平岡 義範\n"
          ],
          "name": "stdout"
        }
      ]
    },
    {
      "cell_type": "code",
      "metadata": {
        "id": "1kwrs5Fv8Jx-",
        "colab_type": "code",
        "outputId": "5d828751-b04d-4140-a9d3-d800a7cb1638",
        "colab": {
          "base_uri": "https://localhost:8080/",
          "height": 1000
        }
      },
      "source": [
        "for name in names:\n",
        "  print(name.find('a').get('href'))"
      ],
      "execution_count": 9,
      "outputs": [
        {
          "output_type": "stream",
          "text": [
            "/information/public/teacher/pharmacy/yamazaki.html\n",
            "/information/public/teacher/pharmacy/ichikawa.html\n",
            "/information/public/teacher/pharmacy/yamahara.html\n",
            "/information/public/teacher/pharmacy/uemura.html\n",
            "/information/public/teacher/pharmacy/fujii.html\n",
            "/information/public/teacher/pharmacy/michida.html\n",
            "/information/public/teacher/pharmacy/utsumi.html\n",
            "/information/public/teacher/pharmacy/hirano.html\n",
            "/information/public/teacher/pharmacy/maeda.html\n",
            "/information/public/teacher/pharmacy/ando.html\n",
            "/information/public/teacher/pharmacy/inagaki.html\n",
            "/information/public/teacher/pharmacy/en.html\n",
            "/information/public/teacher/pharmacy/sasaki.html\n",
            "/information/public/teacher/pharmacy/tsuda.html\n",
            "/information/public/teacher/pharmacy/kamiya.html\n",
            "/information/public/teacher/pharmacy/hioki.html\n",
            "/information/public/teacher/pharmacy/hidaka.html\n",
            "/information/public/teacher/pharmacy/takimoto.html\n",
            "/information/public/teacher/pharmacy/houzyou.html\n",
            "/information/public/teacher/pharmacy/fukudome.html\n",
            "/information/public/teacher/pharmacy/okamoto.html\n",
            "/information/public/teacher/pharmacy/kasuya.html\n",
            "/information/public/teacher/pharmacy/yamazaki.html\n",
            "/information/public/teacher/pharmacy/iguchi.html\n",
            "/information/public/teacher/pharmacy/takahashi.html\n",
            "/information/public/teacher/pharmacy/yamaguchi.html\n",
            "/information/public/teacher/pharmacy/yamashita.html\n",
            "/information/public/teacher/pharmacy/kawai.html\n",
            "/information/public/teacher/pharmacy/takano.html\n",
            "/information/public/teacher/pharmacy/tsunoda.html\n",
            "/information/public/teacher/pharmacy/yayama.html\n",
            "/information/public/teacher/pharmacy/ri.html\n",
            "/information/public/teacher/pharmacy/enomoto.html\n",
            "/information/public/teacher/pharmacy/maekura.html\n",
            "/information/public/teacher/pharmacy/onodera.html\n",
            "/information/public/teacher/pharmacy/shin.html\n",
            "/information/public/teacher/pharmacy/narahara.html\n",
            "/information/public/teacher/pharmacy/hamada.html\n",
            "/information/public/teacher/pharmacy/inoue.html\n",
            "/information/public/teacher/pharmacy/terada.html\n",
            "/information/public/teacher/pharmacy/kume.html\n",
            "/information/public/teacher/pharmacy/shirakawa.html\n",
            "/information/public/teacher/pharmacy/sugioka.html\n",
            "/information/public/teacher/pharmacy/takeda.html\n",
            "/information/public/teacher/pharmacy/tokuyama.html\n",
            "/information/public/teacher/pharmacy/fukushima_s.html\n",
            "/information/public/teacher/pharmacy/kishimoto.html\n",
            "/information/public/teacher/pharmacy/nakagawa.html\n",
            "/information/public/teacher/pharmacy/andou.html\n",
            "/information/public/teacher/pharmacy/ikemura.html\n",
            "/information/public/teacher/pharmacy/irie.html\n",
            "/information/public/teacher/pharmacy/obata.html\n",
            "/information/public/teacher/pharmacy/kamei.html\n",
            "/information/public/teacher/pharmacy/kanmachi.html\n",
            "/information/public/teacher/pharmacy/suzuki.html\n",
            "/information/public/teacher/pharmacy/tamiwa.html\n",
            "/information/public/teacher/pharmacy/tsujimoto.html\n",
            "/information/public/teacher/pharmacy/nakamoto.html\n",
            "/information/public/teacher/pharmacy/hashimoto.html\n",
            "/information/public/teacher/pharmacy/fukushima.html\n",
            "/information/public/teacher/pharmacy/morimoto.html\n",
            "/information/public/teacher/pharmacy/hiraoka.html\n"
          ],
          "name": "stdout"
        }
      ]
    },
    {
      "cell_type": "code",
      "metadata": {
        "id": "qPZ2iiDU8PHe",
        "colab_type": "code",
        "outputId": "b41e5456-4291-438d-f230-83ea165cd0c7",
        "colab": {
          "base_uri": "https://localhost:8080/",
          "height": 1000
        }
      },
      "source": [
        "for name in names:\n",
        "  relative = name.find('a').get('href')\n",
        "  absolute = urljoin(url, relative)\n",
        "  print(absolute)"
      ],
      "execution_count": 10,
      "outputs": [
        {
          "output_type": "stream",
          "text": [
            "https://www.kobegakuin.ac.jp/information/public/teacher/pharmacy/yamazaki.html\n",
            "https://www.kobegakuin.ac.jp/information/public/teacher/pharmacy/ichikawa.html\n",
            "https://www.kobegakuin.ac.jp/information/public/teacher/pharmacy/yamahara.html\n",
            "https://www.kobegakuin.ac.jp/information/public/teacher/pharmacy/uemura.html\n",
            "https://www.kobegakuin.ac.jp/information/public/teacher/pharmacy/fujii.html\n",
            "https://www.kobegakuin.ac.jp/information/public/teacher/pharmacy/michida.html\n",
            "https://www.kobegakuin.ac.jp/information/public/teacher/pharmacy/utsumi.html\n",
            "https://www.kobegakuin.ac.jp/information/public/teacher/pharmacy/hirano.html\n",
            "https://www.kobegakuin.ac.jp/information/public/teacher/pharmacy/maeda.html\n",
            "https://www.kobegakuin.ac.jp/information/public/teacher/pharmacy/ando.html\n",
            "https://www.kobegakuin.ac.jp/information/public/teacher/pharmacy/inagaki.html\n",
            "https://www.kobegakuin.ac.jp/information/public/teacher/pharmacy/en.html\n",
            "https://www.kobegakuin.ac.jp/information/public/teacher/pharmacy/sasaki.html\n",
            "https://www.kobegakuin.ac.jp/information/public/teacher/pharmacy/tsuda.html\n",
            "https://www.kobegakuin.ac.jp/information/public/teacher/pharmacy/kamiya.html\n",
            "https://www.kobegakuin.ac.jp/information/public/teacher/pharmacy/hioki.html\n",
            "https://www.kobegakuin.ac.jp/information/public/teacher/pharmacy/hidaka.html\n",
            "https://www.kobegakuin.ac.jp/information/public/teacher/pharmacy/takimoto.html\n",
            "https://www.kobegakuin.ac.jp/information/public/teacher/pharmacy/houzyou.html\n",
            "https://www.kobegakuin.ac.jp/information/public/teacher/pharmacy/fukudome.html\n",
            "https://www.kobegakuin.ac.jp/information/public/teacher/pharmacy/okamoto.html\n",
            "https://www.kobegakuin.ac.jp/information/public/teacher/pharmacy/kasuya.html\n",
            "https://www.kobegakuin.ac.jp/information/public/teacher/pharmacy/yamazaki.html\n",
            "https://www.kobegakuin.ac.jp/information/public/teacher/pharmacy/iguchi.html\n",
            "https://www.kobegakuin.ac.jp/information/public/teacher/pharmacy/takahashi.html\n",
            "https://www.kobegakuin.ac.jp/information/public/teacher/pharmacy/yamaguchi.html\n",
            "https://www.kobegakuin.ac.jp/information/public/teacher/pharmacy/yamashita.html\n",
            "https://www.kobegakuin.ac.jp/information/public/teacher/pharmacy/kawai.html\n",
            "https://www.kobegakuin.ac.jp/information/public/teacher/pharmacy/takano.html\n",
            "https://www.kobegakuin.ac.jp/information/public/teacher/pharmacy/tsunoda.html\n",
            "https://www.kobegakuin.ac.jp/information/public/teacher/pharmacy/yayama.html\n",
            "https://www.kobegakuin.ac.jp/information/public/teacher/pharmacy/ri.html\n",
            "https://www.kobegakuin.ac.jp/information/public/teacher/pharmacy/enomoto.html\n",
            "https://www.kobegakuin.ac.jp/information/public/teacher/pharmacy/maekura.html\n",
            "https://www.kobegakuin.ac.jp/information/public/teacher/pharmacy/onodera.html\n",
            "https://www.kobegakuin.ac.jp/information/public/teacher/pharmacy/shin.html\n",
            "https://www.kobegakuin.ac.jp/information/public/teacher/pharmacy/narahara.html\n",
            "https://www.kobegakuin.ac.jp/information/public/teacher/pharmacy/hamada.html\n",
            "https://www.kobegakuin.ac.jp/information/public/teacher/pharmacy/inoue.html\n",
            "https://www.kobegakuin.ac.jp/information/public/teacher/pharmacy/terada.html\n",
            "https://www.kobegakuin.ac.jp/information/public/teacher/pharmacy/kume.html\n",
            "https://www.kobegakuin.ac.jp/information/public/teacher/pharmacy/shirakawa.html\n",
            "https://www.kobegakuin.ac.jp/information/public/teacher/pharmacy/sugioka.html\n",
            "https://www.kobegakuin.ac.jp/information/public/teacher/pharmacy/takeda.html\n",
            "https://www.kobegakuin.ac.jp/information/public/teacher/pharmacy/tokuyama.html\n",
            "https://www.kobegakuin.ac.jp/information/public/teacher/pharmacy/fukushima_s.html\n",
            "https://www.kobegakuin.ac.jp/information/public/teacher/pharmacy/kishimoto.html\n",
            "https://www.kobegakuin.ac.jp/information/public/teacher/pharmacy/nakagawa.html\n",
            "https://www.kobegakuin.ac.jp/information/public/teacher/pharmacy/andou.html\n",
            "https://www.kobegakuin.ac.jp/information/public/teacher/pharmacy/ikemura.html\n",
            "https://www.kobegakuin.ac.jp/information/public/teacher/pharmacy/irie.html\n",
            "https://www.kobegakuin.ac.jp/information/public/teacher/pharmacy/obata.html\n",
            "https://www.kobegakuin.ac.jp/information/public/teacher/pharmacy/kamei.html\n",
            "https://www.kobegakuin.ac.jp/information/public/teacher/pharmacy/kanmachi.html\n",
            "https://www.kobegakuin.ac.jp/information/public/teacher/pharmacy/suzuki.html\n",
            "https://www.kobegakuin.ac.jp/information/public/teacher/pharmacy/tamiwa.html\n",
            "https://www.kobegakuin.ac.jp/information/public/teacher/pharmacy/tsujimoto.html\n",
            "https://www.kobegakuin.ac.jp/information/public/teacher/pharmacy/nakamoto.html\n",
            "https://www.kobegakuin.ac.jp/information/public/teacher/pharmacy/hashimoto.html\n",
            "https://www.kobegakuin.ac.jp/information/public/teacher/pharmacy/fukushima.html\n",
            "https://www.kobegakuin.ac.jp/information/public/teacher/pharmacy/morimoto.html\n",
            "https://www.kobegakuin.ac.jp/information/public/teacher/pharmacy/hiraoka.html\n"
          ],
          "name": "stdout"
        }
      ]
    },
    {
      "cell_type": "code",
      "metadata": {
        "id": "2KNXrzhhB2Cz",
        "colab_type": "code",
        "colab": {}
      },
      "source": [
        ""
      ],
      "execution_count": 0,
      "outputs": []
    }
  ]
}